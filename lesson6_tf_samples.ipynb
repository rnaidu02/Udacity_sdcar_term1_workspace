{
 "cells": [
  {
   "cell_type": "code",
   "execution_count": 1,
   "metadata": {},
   "outputs": [
    {
     "name": "stdout",
     "output_type": "stream",
     "text": [
      "123\n"
     ]
    }
   ],
   "source": [
    "# Solution is available in the other \"solution.py\" tab\n",
    "import tensorflow as tf\n",
    "\n",
    "\n",
    "def run():\n",
    "    output = None\n",
    "    x = tf.placeholder(tf.int32)\n",
    "\n",
    "    with tf.Session() as sess:\n",
    "        # TODO: Feed the x tensor 123\n",
    "        output = sess.run(x, feed_dict={x:123})\n",
    "\n",
    "    return output\n",
    "\n",
    "print(run())\n"
   ]
  },
  {
   "cell_type": "code",
   "execution_count": 2,
   "metadata": {},
   "outputs": [
    {
     "name": "stdout",
     "output_type": "stream",
     "text": [
      "4.0\n"
     ]
    }
   ],
   "source": [
    "# Solution is available in the other \"solution.py\" tab\n",
    "import tensorflow as tf\n",
    "\n",
    "# TODO: Convert the following to TensorFlow:\n",
    "x = 10\n",
    "y = 2\n",
    "z = x/y - 1\n",
    "\n",
    "# TODO: Print z from a session\n",
    "x = tf.constant(10)\n",
    "y = tf.constant(2)\n",
    "\n",
    "with tf.Session() as sess:\n",
    "    z  = tf.subtract(tf.divide(x, y) , 1)\n",
    "    output = sess.run(z)\n",
    "    print(output)"
   ]
  },
  {
   "cell_type": "markdown",
   "metadata": {},
   "source": [
    "### Quiz: TensorFlow Linear Function"
   ]
  },
  {
   "cell_type": "markdown",
   "metadata": {},
   "source": [
    "#### Quiz.py"
   ]
  },
  {
   "cell_type": "code",
   "execution_count": 1,
   "metadata": {
    "collapsed": true
   },
   "outputs": [],
   "source": [
    "# Solution is available in the other \"quiz_solution.py\" tab\n",
    "import tensorflow as tf\n",
    "\n",
    "def get_weights(n_features, n_labels):\n",
    "    \"\"\"\n",
    "    Return TensorFlow weights\n",
    "    :param n_features: Number of features\n",
    "    :param n_labels: Number of labels\n",
    "    :return: TensorFlow weights\n",
    "    \"\"\"\n",
    "    # TODO: Return weights\n",
    "    weights = tf.Variable(tf.truncated_normal((n_features, n_labels)))\n",
    "    return weights\n",
    "    pass\n",
    "\n",
    "\n",
    "def get_biases(n_labels):\n",
    "    \"\"\"\n",
    "    Return TensorFlow bias\n",
    "    :param n_labels: Number of labels\n",
    "    :return: TensorFlow bias\n",
    "    \"\"\"\n",
    "    # TODO: Return biases\n",
    "    biases = tf.Variable(tf.zeros( n_labels))\n",
    "    return biases\n",
    "    pass\n",
    "\n",
    "\n",
    "def linear(input, w, b):\n",
    "    \"\"\"\n",
    "    Return linear function in TensorFlow\n",
    "    :param input: TensorFlow input\n",
    "    :param w: TensorFlow weights\n",
    "    :param b: TensorFlow biases\n",
    "    :return: TensorFlow linear function\n",
    "    \"\"\"\n",
    "    # TODO: Linear Function (xW + b)\n",
    "    return tf.add(tf.matmul(input, w), b)\n",
    "    pass"
   ]
  },
  {
   "cell_type": "markdown",
   "metadata": {},
   "source": [
    "#### Sandbox.py"
   ]
  },
  {
   "cell_type": "code",
   "execution_count": 4,
   "metadata": {},
   "outputs": [
    {
     "name": "stdout",
     "output_type": "stream",
     "text": [
      "Extracting datasets/ud730/mnist/train-images-idx3-ubyte.gz\n",
      "Extracting datasets/ud730/mnist/train-labels-idx1-ubyte.gz\n",
      "Extracting datasets/ud730/mnist/t10k-images-idx3-ubyte.gz\n",
      "Extracting datasets/ud730/mnist/t10k-labels-idx1-ubyte.gz\n",
      "Loss: 4.656086444854736\n"
     ]
    }
   ],
   "source": [
    "# Solution is available in the other \"sandbox_solution.py\" tab\n",
    "import tensorflow as tf\n",
    "from tensorflow.examples.tutorials.mnist import input_data\n",
    "#from quiz import get_weights, get_biases, linear\n",
    "\n",
    "\n",
    "def mnist_features_labels(n_labels):\n",
    "    \"\"\"\n",
    "    Gets the first <n> labels from the MNIST dataset\n",
    "    :param n_labels: Number of labels to use\n",
    "    :return: Tuple of feature list and label list\n",
    "    \"\"\"\n",
    "    mnist_features = []\n",
    "    mnist_labels = []\n",
    "\n",
    "    mnist = input_data.read_data_sets('datasets/ud730/mnist', one_hot=True)\n",
    "\n",
    "    # In order to make quizzes run faster, we're only looking at 10000 images\n",
    "    for mnist_feature, mnist_label in zip(*mnist.train.next_batch(10000)):\n",
    "\n",
    "        # Add features and labels if it's for the first <n>th labels\n",
    "        if mnist_label[:n_labels].any():\n",
    "            mnist_features.append(mnist_feature)\n",
    "            mnist_labels.append(mnist_label[:n_labels])\n",
    "\n",
    "    return mnist_features, mnist_labels\n",
    "\n",
    "\n",
    "# Number of features (28*28 image is 784 features)\n",
    "n_features = 784\n",
    "# Number of labels\n",
    "n_labels = 3\n",
    "\n",
    "# Features and Labels\n",
    "features = tf.placeholder(tf.float32)\n",
    "labels = tf.placeholder(tf.float32)\n",
    "\n",
    "# Weights and Biases\n",
    "w = get_weights(n_features, n_labels)\n",
    "b = get_biases(n_labels)\n",
    "\n",
    "# Linear Function xW + b\n",
    "logits = linear(features, w, b)\n",
    "\n",
    "# Training data\n",
    "train_features, train_labels = mnist_features_labels(n_labels)\n",
    "init = tf.global_variables_initializer()\n",
    "with tf.Session() as session:\n",
    "    # TODO: Initialize session variables\n",
    "    session.run(init)\n",
    "    # Softmax\n",
    "    prediction = tf.nn.softmax(logits)\n",
    "\n",
    "    # Cross entropy\n",
    "    # This quantifies how far off the predictions were.\n",
    "    # You'll learn more about this in future lessons.\n",
    "    cross_entropy = -tf.reduce_sum(labels * tf.log(prediction), reduction_indices=1)\n",
    "\n",
    "    # Training loss\n",
    "    # You'll learn more about this in future lessons.\n",
    "    loss = tf.reduce_mean(cross_entropy)\n",
    "\n",
    "    # Rate at which the weights are changed\n",
    "    # You'll learn more about this in future lessons.\n",
    "    learning_rate = 0.08\n",
    "\n",
    "    # Gradient Descent\n",
    "    # This is the method used to train the model\n",
    "    # You'll learn more about this in future lessons.\n",
    "    optimizer = tf.train.GradientDescentOptimizer(learning_rate).minimize(loss)\n",
    "\n",
    "    # Run optimizer and get loss\n",
    "    _, l = session.run(\n",
    "        [optimizer, loss],\n",
    "        feed_dict={features: train_features, labels: train_labels})\n",
    "\n",
    "# Print loss\n",
    "print('Loss: {}'.format(l))\n"
   ]
  },
  {
   "cell_type": "markdown",
   "metadata": {
    "collapsed": true
   },
   "source": [
    "#### Softmax sample"
   ]
  },
  {
   "cell_type": "code",
   "execution_count": 5,
   "metadata": {},
   "outputs": [
    {
     "name": "stdout",
     "output_type": "stream",
     "text": [
      "[ 0.8360188   0.11314284  0.05083836]\n"
     ]
    }
   ],
   "source": [
    "# Solution is available in the other \"solution.py\" tab\n",
    "import numpy as np\n",
    "\n",
    "\n",
    "def softmax(x):\n",
    "    \"\"\"Compute softmax values for each sets of scores in x.\"\"\"\n",
    "    # TODO: Compute and return softmax(x)\n",
    "    return np.exp(x)/np.sum(np.exp(x), axis=0)\n",
    "\n",
    "logits = [3.0, 1.0, 0.2]\n",
    "print(softmax(logits))"
   ]
  },
  {
   "cell_type": "markdown",
   "metadata": {},
   "source": [
    "#### Softmax using TF"
   ]
  },
  {
   "cell_type": "code",
   "execution_count": 8,
   "metadata": {},
   "outputs": [
    {
     "name": "stdout",
     "output_type": "stream",
     "text": [
      "[ 0.65900117  0.24243298  0.09856589]\n"
     ]
    }
   ],
   "source": [
    "# Solution is available in the other \"solution.py\" tab\n",
    "import tensorflow as tf\n",
    "\n",
    "\n",
    "def run():\n",
    "    output = None\n",
    "    logit_data = [2.0, 1.0, 0.1]\n",
    "    logits = tf.placeholder(tf.float32)\n",
    "    \n",
    "    # TODO: Calculate the softmax of the logits\n",
    "    softmax =  tf.nn.softmax(logits)   \n",
    "    \n",
    "    with tf.Session() as sess:\n",
    "        # TODO: Feed in the logit data\n",
    "        output = sess.run(softmax,  feed_dict={logits: logit_data}  )\n",
    "\n",
    "    return output\n",
    "\n",
    "print(run())"
   ]
  },
  {
   "cell_type": "markdown",
   "metadata": {},
   "source": [
    "#### Cross Entropy"
   ]
  },
  {
   "cell_type": "code",
   "execution_count": 9,
   "metadata": {},
   "outputs": [
    {
     "name": "stdout",
     "output_type": "stream",
     "text": [
      "0.356675\n"
     ]
    }
   ],
   "source": [
    "# Solution is available in the other \"solution.py\" tab\n",
    "import tensorflow as tf\n",
    "\n",
    "softmax_data = [0.7, 0.2, 0.1]\n",
    "one_hot_data = [1.0, 0.0, 0.0]\n",
    "\n",
    "softmax = tf.placeholder(tf.float32)\n",
    "one_hot = tf.placeholder(tf.float32)\n",
    "\n",
    "# TODO: Print cross entropy from session\n",
    "\n",
    "cross_entropy = -tf.reduce_sum(tf.multiply(one_hot, tf.log(softmax)))\n",
    "with tf.Session() as sess:\n",
    "    print(sess.run(cross_entropy, feed_dict={one_hot:one_hot_data, softmax:softmax_data} ))\n",
    "    \n"
   ]
  },
  {
   "cell_type": "markdown",
   "metadata": {},
   "source": [
    "#### Mini Batch sizes exercise"
   ]
  },
  {
   "cell_type": "code",
   "execution_count": 10,
   "metadata": {
    "collapsed": true
   },
   "outputs": [],
   "source": [
    "example_features = [\n",
    "    ['F11','F12','F13','F14'],\n",
    "    ['F21','F22','F23','F24'],\n",
    "    ['F31','F32','F33','F34'],\n",
    "    ['F41','F42','F43','F44']]\n",
    "# 4 Samples of labels\n",
    "example_labels = [\n",
    "    ['L11','L12'],\n",
    "    ['L21','L22'],\n",
    "    ['L31','L32'],\n",
    "    ['L41','L42']]"
   ]
  },
  {
   "cell_type": "code",
   "execution_count": 43,
   "metadata": {},
   "outputs": [
    {
     "name": "stdout",
     "output_type": "stream",
     "text": [
      "4\n",
      "1 1\n",
      "[[[['F11', 'F12', 'F13', 'F14'],\n",
      "   ['F21', 'F22', 'F23', 'F24'],\n",
      "   ['F31', 'F32', 'F33', 'F34']],\n",
      "  [['L11', 'L12'], ['L21', 'L22'], ['L31', 'L32']]],\n",
      " [[['F41', 'F42', 'F43', 'F44']], [['L41', 'L42']]]]\n"
     ]
    }
   ],
   "source": [
    "from pprint import pprint\n",
    "b=3\n",
    "n = np.shape(example_features)[0]\n",
    "print (n)\n",
    "repeat = np.int(n/b)\n",
    "remainder = n%b\n",
    "print(repeat, remainder)\n",
    "output_batches = []\n",
    "for i in range(repeat):\n",
    "    #print(i*b+b)\n",
    "    output_batches.append([example_features[i*b:i*b+b], example_labels[i*b:i*b+b]])\n",
    "\n",
    "    \n",
    "#remainder\n",
    "output_batches.append([example_features[-remainder:],example_labels[-remainder:]] )\n",
    "pprint(output_batches)\n"
   ]
  },
  {
   "cell_type": "code",
   "execution_count": 45,
   "metadata": {},
   "outputs": [
    {
     "name": "stdout",
     "output_type": "stream",
     "text": [
      "4\n",
      "1 1\n",
      "[[[['F11', 'F12', 'F13', 'F14'],\n",
      "   ['F21', 'F22', 'F23', 'F24'],\n",
      "   ['F31', 'F32', 'F33', 'F34']],\n",
      "  [['L11', 'L12'], ['L21', 'L22'], ['L31', 'L32']]],\n",
      " [[['F41', 'F42', 'F43', 'F44']], [['L41', 'L42']]]]\n"
     ]
    }
   ],
   "source": [
    "#from quiz import batches\n",
    "from pprint import pprint\n",
    "import math\n",
    "def batches(batch_size, features, labels):\n",
    "    \"\"\"\n",
    "    Create batches of features and labels\n",
    "    :param batch_size: The batch size\n",
    "    :param features: List of features\n",
    "    :param labels: List of labels\n",
    "    :return: Batches of (Features, Labels)\n",
    "    \"\"\"\n",
    "    assert len(features) == len(labels)\n",
    "    # TODO: Implement batching\n",
    "    b = batch_size\n",
    "    n = np.shape(features)[0]\n",
    "    print (n)\n",
    "    repeat = np.int(n/b)\n",
    "    remainder = n%b\n",
    "    print(repeat, remainder)\n",
    "    output_batches = []\n",
    "    for i in range(repeat):\n",
    "        #print(i*b+b)\n",
    "        output_batches.append([features[i*b:i*b+b], labels[i*b:i*b+b]])\n",
    "\n",
    "\n",
    "    #remainder\n",
    "    output_batches.append([features[-remainder:],labels[-remainder:]] )\n",
    "    return output_batches\n",
    "    pass\n",
    "\n",
    "# 4 Samples of features\n",
    "example_features = [\n",
    "    ['F11','F12','F13','F14'],\n",
    "    ['F21','F22','F23','F24'],\n",
    "    ['F31','F32','F33','F34'],\n",
    "    ['F41','F42','F43','F44']]\n",
    "# 4 Samples of labels\n",
    "example_labels = [\n",
    "    ['L11','L12'],\n",
    "    ['L21','L22'],\n",
    "    ['L31','L32'],\n",
    "    ['L41','L42']]\n",
    "\n",
    "# PPrint prints data structures like 2d arrays, so they are easier to read\n",
    "pprint(batches(3, example_features, example_labels))"
   ]
  },
  {
   "cell_type": "markdown",
   "metadata": {},
   "source": [
    "#### Mini batch quiz"
   ]
  },
  {
   "cell_type": "code",
   "execution_count": 46,
   "metadata": {
    "collapsed": true
   },
   "outputs": [],
   "source": [
    "import math\n",
    "def batches(batch_size, features, labels):\n",
    "    \"\"\"\n",
    "    Create batches of features and labels\n",
    "    :param batch_size: The batch size\n",
    "    :param features: List of features\n",
    "    :param labels: List of labels\n",
    "    :return: Batches of (Features, Labels)\n",
    "    \"\"\"\n",
    "    assert len(features) == len(labels)\n",
    "    outout_batches = []\n",
    "    \n",
    "    sample_size = len(features)\n",
    "    for start_i in range(0, sample_size, batch_size):\n",
    "        end_i = start_i + batch_size\n",
    "        batch = [features[start_i:end_i], labels[start_i:end_i]]\n",
    "        outout_batches.append(batch)\n",
    "        \n",
    "    return outout_batches\n"
   ]
  },
  {
   "cell_type": "code",
   "execution_count": 48,
   "metadata": {},
   "outputs": [
    {
     "name": "stdout",
     "output_type": "stream",
     "text": [
      "Extracting datasets/ud730/mnist/train-images-idx3-ubyte.gz\n",
      "Extracting datasets/ud730/mnist/train-labels-idx1-ubyte.gz\n",
      "Extracting datasets/ud730/mnist/t10k-images-idx3-ubyte.gz\n",
      "Extracting datasets/ud730/mnist/t10k-labels-idx1-ubyte.gz\n",
      "Test Accuracy: 0.15700000524520874\n"
     ]
    }
   ],
   "source": [
    "from tensorflow.examples.tutorials.mnist import input_data\n",
    "import tensorflow as tf\n",
    "import numpy as np\n",
    "#from helper import batches\n",
    "\n",
    "learning_rate = 0.001\n",
    "n_input = 784  # MNIST data input (img shape: 28*28)\n",
    "n_classes = 10  # MNIST total classes (0-9 digits)\n",
    "\n",
    "# Import MNIST data\n",
    "mnist = input_data.read_data_sets('datasets/ud730/mnist', one_hot=True)\n",
    "\n",
    "# The features are already scaled and the data is shuffled\n",
    "train_features = mnist.train.images\n",
    "test_features = mnist.test.images\n",
    "\n",
    "train_labels = mnist.train.labels.astype(np.float32)\n",
    "test_labels = mnist.test.labels.astype(np.float32)\n",
    "\n",
    "# Features and Labels\n",
    "features = tf.placeholder(tf.float32, [None, n_input])\n",
    "labels = tf.placeholder(tf.float32, [None, n_classes])\n",
    "\n",
    "# Weights & bias\n",
    "weights = tf.Variable(tf.random_normal([n_input, n_classes]))\n",
    "bias = tf.Variable(tf.random_normal([n_classes]))\n",
    "\n",
    "# Logits - xW + b\n",
    "logits = tf.add(tf.matmul(features, weights), bias)\n",
    "\n",
    "# Define loss and optimizer\n",
    "cost = tf.reduce_mean(tf.nn.softmax_cross_entropy_with_logits(logits=logits, labels=labels))\n",
    "optimizer = tf.train.GradientDescentOptimizer(learning_rate=learning_rate).minimize(cost)\n",
    "\n",
    "# Calculate accuracy\n",
    "correct_prediction = tf.equal(tf.argmax(logits, 1), tf.argmax(labels, 1))\n",
    "accuracy = tf.reduce_mean(tf.cast(correct_prediction, tf.float32))\n",
    "\n",
    "\n",
    "# TODO: Set batch size\n",
    "batch_size = 128\n",
    "assert batch_size is not None, 'You must set the batch size'\n",
    "\n",
    "init = tf.global_variables_initializer()\n",
    "\n",
    "with tf.Session() as sess:\n",
    "    sess.run(init)\n",
    "    \n",
    "    # TODO: Train optimizer on all batches\n",
    "    #Cahnge numpy \n",
    "    for batch_features, batch_labels in batches(batch_size, train_features, train_labels):\n",
    "        sess.run(optimizer, feed_dict={features: batch_features, labels: batch_labels})\n",
    "    \n",
    "        # Calculate accuracy for test dataset\n",
    "        test_accuracy = sess.run(\n",
    "            accuracy,\n",
    "            feed_dict={features: test_features, labels: test_labels})\n",
    "\n",
    "print('Test Accuracy: {}'.format(test_accuracy))\n"
   ]
  },
  {
   "cell_type": "markdown",
   "metadata": {},
   "source": [
    "#### With the epochs"
   ]
  },
  {
   "cell_type": "code",
   "execution_count": 51,
   "metadata": {},
   "outputs": [
    {
     "name": "stdout",
     "output_type": "stream",
     "text": [
      "Extracting datasets/ud730/mnist/train-images-idx3-ubyte.gz\n",
      "Extracting datasets/ud730/mnist/train-labels-idx1-ubyte.gz\n",
      "Extracting datasets/ud730/mnist/t10k-images-idx3-ubyte.gz\n",
      "Extracting datasets/ud730/mnist/t10k-labels-idx1-ubyte.gz\n",
      "Epoch: 0    - Cost: 12.3     Valid Accuracy: 0.101\n",
      "Epoch: 1    - Cost: 11.1     Valid Accuracy: 0.109\n",
      "Epoch: 2    - Cost: 10.2     Valid Accuracy: 0.124\n",
      "Epoch: 3    - Cost: 9.48     Valid Accuracy: 0.137\n",
      "Epoch: 4    - Cost: 8.89     Valid Accuracy: 0.152\n",
      "Epoch: 5    - Cost: 8.39     Valid Accuracy: 0.172\n",
      "Epoch: 6    - Cost: 7.94     Valid Accuracy: 0.189\n",
      "Epoch: 7    - Cost: 7.54     Valid Accuracy: 0.203\n",
      "Epoch: 8    - Cost: 7.17     Valid Accuracy: 0.219\n",
      "Epoch: 9    - Cost: 6.83     Valid Accuracy: 0.231\n",
      "Epoch: 10   - Cost: 6.51     Valid Accuracy: 0.245\n",
      "Epoch: 11   - Cost: 6.22     Valid Accuracy: 0.259\n",
      "Epoch: 12   - Cost: 5.95     Valid Accuracy: 0.27 \n",
      "Epoch: 13   - Cost: 5.7      Valid Accuracy: 0.285\n",
      "Epoch: 14   - Cost: 5.47     Valid Accuracy: 0.299\n",
      "Epoch: 15   - Cost: 5.25     Valid Accuracy: 0.313\n",
      "Epoch: 16   - Cost: 5.05     Valid Accuracy: 0.33 \n",
      "Epoch: 17   - Cost: 4.87     Valid Accuracy: 0.343\n",
      "Epoch: 18   - Cost: 4.69     Valid Accuracy: 0.357\n",
      "Epoch: 19   - Cost: 4.53     Valid Accuracy: 0.373\n",
      "Epoch: 20   - Cost: 4.37     Valid Accuracy: 0.385\n",
      "Epoch: 21   - Cost: 4.23     Valid Accuracy: 0.396\n",
      "Epoch: 22   - Cost: 4.09     Valid Accuracy: 0.406\n",
      "Epoch: 23   - Cost: 3.96     Valid Accuracy: 0.418\n",
      "Epoch: 24   - Cost: 3.84     Valid Accuracy: 0.428\n",
      "Epoch: 25   - Cost: 3.73     Valid Accuracy: 0.438\n",
      "Epoch: 26   - Cost: 3.62     Valid Accuracy: 0.449\n",
      "Epoch: 27   - Cost: 3.52     Valid Accuracy: 0.458\n",
      "Epoch: 28   - Cost: 3.42     Valid Accuracy: 0.469\n",
      "Epoch: 29   - Cost: 3.33     Valid Accuracy: 0.476\n",
      "Epoch: 30   - Cost: 3.24     Valid Accuracy: 0.484\n",
      "Epoch: 31   - Cost: 3.16     Valid Accuracy: 0.49 \n",
      "Epoch: 32   - Cost: 3.08     Valid Accuracy: 0.496\n",
      "Epoch: 33   - Cost: 3.01     Valid Accuracy: 0.503\n",
      "Epoch: 34   - Cost: 2.93     Valid Accuracy: 0.511\n",
      "Epoch: 35   - Cost: 2.87     Valid Accuracy: 0.517\n",
      "Epoch: 36   - Cost: 2.8      Valid Accuracy: 0.521\n",
      "Epoch: 37   - Cost: 2.74     Valid Accuracy: 0.528\n",
      "Epoch: 38   - Cost: 2.68     Valid Accuracy: 0.534\n",
      "Epoch: 39   - Cost: 2.62     Valid Accuracy: 0.538\n",
      "Epoch: 40   - Cost: 2.57     Valid Accuracy: 0.542\n",
      "Epoch: 41   - Cost: 2.51     Valid Accuracy: 0.547\n",
      "Epoch: 42   - Cost: 2.46     Valid Accuracy: 0.549\n",
      "Epoch: 43   - Cost: 2.41     Valid Accuracy: 0.552\n",
      "Epoch: 44   - Cost: 2.37     Valid Accuracy: 0.557\n",
      "Epoch: 45   - Cost: 2.32     Valid Accuracy: 0.562\n",
      "Epoch: 46   - Cost: 2.28     Valid Accuracy: 0.566\n",
      "Epoch: 47   - Cost: 2.24     Valid Accuracy: 0.57 \n",
      "Epoch: 48   - Cost: 2.2      Valid Accuracy: 0.573\n",
      "Epoch: 49   - Cost: 2.16     Valid Accuracy: 0.578\n",
      "Epoch: 50   - Cost: 2.12     Valid Accuracy: 0.584\n",
      "Epoch: 51   - Cost: 2.09     Valid Accuracy: 0.587\n",
      "Epoch: 52   - Cost: 2.05     Valid Accuracy: 0.591\n",
      "Epoch: 53   - Cost: 2.02     Valid Accuracy: 0.594\n",
      "Epoch: 54   - Cost: 1.99     Valid Accuracy: 0.597\n",
      "Epoch: 55   - Cost: 1.96     Valid Accuracy: 0.599\n",
      "Epoch: 56   - Cost: 1.93     Valid Accuracy: 0.601\n",
      "Epoch: 57   - Cost: 1.9      Valid Accuracy: 0.604\n",
      "Epoch: 58   - Cost: 1.87     Valid Accuracy: 0.609\n",
      "Epoch: 59   - Cost: 1.85     Valid Accuracy: 0.615\n",
      "Epoch: 60   - Cost: 1.82     Valid Accuracy: 0.617\n",
      "Epoch: 61   - Cost: 1.8      Valid Accuracy: 0.62 \n",
      "Epoch: 62   - Cost: 1.77     Valid Accuracy: 0.622\n",
      "Epoch: 63   - Cost: 1.75     Valid Accuracy: 0.626\n",
      "Epoch: 64   - Cost: 1.73     Valid Accuracy: 0.629\n",
      "Epoch: 65   - Cost: 1.71     Valid Accuracy: 0.631\n",
      "Epoch: 66   - Cost: 1.69     Valid Accuracy: 0.634\n",
      "Epoch: 67   - Cost: 1.67     Valid Accuracy: 0.635\n",
      "Epoch: 68   - Cost: 1.65     Valid Accuracy: 0.638\n",
      "Epoch: 69   - Cost: 1.63     Valid Accuracy: 0.64 \n",
      "Epoch: 70   - Cost: 1.61     Valid Accuracy: 0.643\n",
      "Epoch: 71   - Cost: 1.6      Valid Accuracy: 0.646\n",
      "Epoch: 72   - Cost: 1.58     Valid Accuracy: 0.648\n",
      "Epoch: 73   - Cost: 1.56     Valid Accuracy: 0.65 \n",
      "Epoch: 74   - Cost: 1.55     Valid Accuracy: 0.652\n",
      "Epoch: 75   - Cost: 1.53     Valid Accuracy: 0.654\n",
      "Epoch: 76   - Cost: 1.52     Valid Accuracy: 0.657\n",
      "Epoch: 77   - Cost: 1.5      Valid Accuracy: 0.659\n",
      "Epoch: 78   - Cost: 1.49     Valid Accuracy: 0.661\n",
      "Epoch: 79   - Cost: 1.48     Valid Accuracy: 0.663\n",
      "Epoch: 80   - Cost: 1.47     Valid Accuracy: 0.664\n",
      "Epoch: 81   - Cost: 1.45     Valid Accuracy: 0.667\n",
      "Epoch: 82   - Cost: 1.44     Valid Accuracy: 0.669\n",
      "Epoch: 83   - Cost: 1.43     Valid Accuracy: 0.671\n",
      "Epoch: 84   - Cost: 1.42     Valid Accuracy: 0.673\n",
      "Epoch: 85   - Cost: 1.41     Valid Accuracy: 0.675\n",
      "Epoch: 86   - Cost: 1.4      Valid Accuracy: 0.677\n",
      "Epoch: 87   - Cost: 1.39     Valid Accuracy: 0.678\n",
      "Epoch: 88   - Cost: 1.38     Valid Accuracy: 0.679\n",
      "Epoch: 89   - Cost: 1.37     Valid Accuracy: 0.68 \n",
      "Epoch: 90   - Cost: 1.36     Valid Accuracy: 0.682\n",
      "Epoch: 91   - Cost: 1.35     Valid Accuracy: 0.684\n",
      "Epoch: 92   - Cost: 1.34     Valid Accuracy: 0.685\n",
      "Epoch: 93   - Cost: 1.33     Valid Accuracy: 0.686\n",
      "Epoch: 94   - Cost: 1.32     Valid Accuracy: 0.688\n",
      "Epoch: 95   - Cost: 1.31     Valid Accuracy: 0.69 \n",
      "Epoch: 96   - Cost: 1.3      Valid Accuracy: 0.691\n",
      "Epoch: 97   - Cost: 1.29     Valid Accuracy: 0.693\n",
      "Epoch: 98   - Cost: 1.29     Valid Accuracy: 0.694\n",
      "Epoch: 99   - Cost: 1.28     Valid Accuracy: 0.695\n",
      "Test Accuracy: 0.7160999774932861\n"
     ]
    }
   ],
   "source": [
    "from tensorflow.examples.tutorials.mnist import input_data\n",
    "import tensorflow as tf\n",
    "import numpy as np\n",
    "#from helper import batches  # Helper function created in Mini-batching section\n",
    "\n",
    "\n",
    "def print_epoch_stats(epoch_i, sess, last_features, last_labels):\n",
    "    \"\"\"\n",
    "    Print cost and validation accuracy of an epoch\n",
    "    \"\"\"\n",
    "    current_cost = sess.run(\n",
    "        cost,\n",
    "        feed_dict={features: last_features, labels: last_labels})\n",
    "    valid_accuracy = sess.run(\n",
    "        accuracy,\n",
    "        feed_dict={features: valid_features, labels: valid_labels})\n",
    "    print('Epoch: {:<4} - Cost: {:<8.3} Valid Accuracy: {:<5.3}'.format(\n",
    "        epoch_i,\n",
    "        current_cost,\n",
    "        valid_accuracy))\n",
    "\n",
    "n_input = 784  # MNIST data input (img shape: 28*28)\n",
    "n_classes = 10  # MNIST total classes (0-9 digits)\n",
    "\n",
    "# Import MNIST data\n",
    "mnist = input_data.read_data_sets('datasets/ud730/mnist', one_hot=True)\n",
    "\n",
    "# The features are already scaled and the data is shuffled\n",
    "train_features = mnist.train.images\n",
    "valid_features = mnist.validation.images\n",
    "test_features = mnist.test.images\n",
    "\n",
    "train_labels = mnist.train.labels.astype(np.float32)\n",
    "valid_labels = mnist.validation.labels.astype(np.float32)\n",
    "test_labels = mnist.test.labels.astype(np.float32)\n",
    "\n",
    "# Features and Labels\n",
    "features = tf.placeholder(tf.float32, [None, n_input])\n",
    "labels = tf.placeholder(tf.float32, [None, n_classes])\n",
    "\n",
    "# Weights & bias\n",
    "weights = tf.Variable(tf.random_normal([n_input, n_classes]))\n",
    "bias = tf.Variable(tf.random_normal([n_classes]))\n",
    "\n",
    "# Logits - xW + b\n",
    "logits = tf.add(tf.matmul(features, weights), bias)\n",
    "\n",
    "# Define loss and optimizer\n",
    "learning_rate = tf.placeholder(tf.float32)\n",
    "cost = tf.reduce_mean(tf.nn.softmax_cross_entropy_with_logits(logits=logits, labels=labels))\n",
    "optimizer = tf.train.GradientDescentOptimizer(learning_rate=learning_rate).minimize(cost)\n",
    "\n",
    "# Calculate accuracy\n",
    "correct_prediction = tf.equal(tf.argmax(logits, 1), tf.argmax(labels, 1))\n",
    "accuracy = tf.reduce_mean(tf.cast(correct_prediction, tf.float32))\n",
    "\n",
    "init = tf.global_variables_initializer()\n",
    "\n",
    "batch_size = 128\n",
    "epochs = 100\n",
    "learn_rate = 0.001\n",
    "\n",
    "train_batches = batches(batch_size, train_features, train_labels)\n",
    "\n",
    "with tf.Session() as sess:\n",
    "    sess.run(init)\n",
    "\n",
    "    # Training cycle\n",
    "    for epoch_i in range(epochs):\n",
    "\n",
    "        # Loop over all batches\n",
    "        for batch_features, batch_labels in train_batches:\n",
    "            train_feed_dict = {\n",
    "                features: batch_features,\n",
    "                labels: batch_labels,\n",
    "                learning_rate: learn_rate}\n",
    "            sess.run(optimizer, feed_dict=train_feed_dict)\n",
    "\n",
    "        # Print cost and validation accuracy of an epoch\n",
    "        print_epoch_stats(epoch_i, sess, batch_features, batch_labels)\n",
    "\n",
    "    # Calculate accuracy for test dataset\n",
    "    test_accuracy = sess.run(\n",
    "        accuracy,\n",
    "        feed_dict={features: test_features, labels: test_labels})\n",
    "\n",
    "print('Test Accuracy: {}'.format(test_accuracy))"
   ]
  },
  {
   "cell_type": "code",
   "execution_count": null,
   "metadata": {
    "collapsed": true
   },
   "outputs": [],
   "source": []
  }
 ],
 "metadata": {
  "kernelspec": {
   "display_name": "Python 3",
   "language": "python",
   "name": "python3"
  },
  "language_info": {
   "codemirror_mode": {
    "name": "ipython",
    "version": 3
   },
   "file_extension": ".py",
   "mimetype": "text/x-python",
   "name": "python",
   "nbconvert_exporter": "python",
   "pygments_lexer": "ipython3",
   "version": "3.5.2"
  },
  "widgets": {
   "state": {},
   "version": "1.1.2"
  }
 },
 "nbformat": 4,
 "nbformat_minor": 1
}
